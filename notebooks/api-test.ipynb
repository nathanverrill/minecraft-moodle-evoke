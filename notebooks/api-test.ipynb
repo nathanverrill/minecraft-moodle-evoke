{
 "cells": [
  {
   "cell_type": "markdown",
   "metadata": {},
   "source": [
    "# Moodle API test\n",
    "\n",
    "3 JUN 2022\n",
    "\n",
    "Nathan Verrill nathanverrill@gmail.com\n",
    "John Moravec jmoravec@worldbank.org\n",
    "\n",
    "### Purpose\n",
    "\n",
    "The purpose of this `Jupyter notebook` is to test the `Moodle API`. Moodle is a commonly used learning management system and used by the World Bank, for EVOKE, in the early 2020s. Tests are programmed in Python and use the ` `moodlepy` Python module. The module is available via pip and code here: https://github.com/hexatester/moodlepy\n",
    "\n",
    "We would like to use the Moodle API to provide an exciting, gameful experience for EVOKE players and students. Creating a rich experience is very difficult, if not impossible, in Moodle, and Moodle does not use modern coding frameworks - it's still `PHP`, and not `.NET Core`, `Django`, or similar. Fortunately Moodle does expose a number of `REST API` endpoints that return data in `JSON` format.\n",
    " \n",
    "This API sets the stage for 'big thinking' integration with AAA game titles. One example is providing players with a Minecraft in-game reward when a Moodle badge is earned.\n",
    "\n"
   ]
  },
  {
   "cell_type": "markdown",
   "metadata": {},
   "source": [
    "### Moodle API setup\n",
    "\n",
    "Go to Server > Web Service to setup tokens:\n",
    "https://evoke-api-test.moodlecloud.com/admin/webservice/tokens.php\n",
    "\n",
    "#### Moodle API credentials\n",
    "\n",
    "The Moodle API Token is created in the site administration area of the Evoke Moodle website"
   ]
  },
  {
   "cell_type": "code",
   "execution_count": 2,
   "metadata": {},
   "outputs": [],
   "source": [
    "\n",
    "# change these as needed\n",
    "MOODLE_API_URL = 'https://staging.evokenet.org/moodle/webservice/rest/server.php'\n",
    "MOODLE_API_TOKEN = '5c80c940860bea1decd3bd9134d514b8'\n",
    "\n",
    "# test user_id\n",
    "TEST_USERID = 3\n"
   ]
  },
  {
   "cell_type": "markdown",
   "metadata": {},
   "source": [
    "#### Instantiate API\n",
    "\n",
    "Calls to specific Moodle web services are made with the `moodle` object."
   ]
  },
  {
   "cell_type": "code",
   "execution_count": 3,
   "metadata": {},
   "outputs": [],
   "source": [
    "\n",
    "# load moodlepy\n",
    "# available via pip, eg python3 -m pip install moodlepy\n",
    "from moodle import Moodle\n",
    "\n",
    "# create instance of Moodle object used for web services\n",
    "moodle = Moodle(MOODLE_API_URL, MOODLE_API_TOKEN)\n"
   ]
  },
  {
   "cell_type": "markdown",
   "metadata": {},
   "source": [
    "\n",
    "#### User information\n",
    "\n",
    "The Moodle API provides information about each user by `user_id` which can be found on the EVOKE Moodle website. A variable is used in this notebook and specified in a cell above.\n",
    "\n",
    "##### TODO: \n",
    "Figure out how to retrieve user information. Documentation is unclear, but we were able to retrieve badges for a user, which we demonstrate next."
   ]
  },
  {
   "cell_type": "markdown",
   "metadata": {},
   "source": [
    "#### Badge information\n",
    "\n",
    "Badge information can be retrieved for each user. The `Badge` object has a number of properties, including name, description and so on. In the following two cells we see the output when printing badge description for each badge earned by the user, which is included in a `List` in the `BadgeResponse` object, and the entire `Badge` object."
   ]
  },
  {
   "cell_type": "code",
   "execution_count": 4,
   "metadata": {},
   "outputs": [
    {
     "name": "stdout",
     "output_type": "stream",
     "text": [
      "Badge description: Nice beard\n",
      "Badge description: This is a thing\n"
     ]
    }
   ],
   "source": [
    "\n",
    "# badge properties accessed via dot notation and not a python dictionary\n",
    "badges = moodle.core.webservice.moodle.core.bagdes.get_user_badges(userid=TEST_USERID)\n",
    "\n",
    "# if the user has earned badges a collection (Python list) is returned.\n",
    "# the API user must have view-other-badges ability \n",
    "for badge in badges:\n",
    "\n",
    "    description = badge.description\n",
    "\n",
    "    print(f'Badge description: {description}')"
   ]
  },
  {
   "cell_type": "code",
   "execution_count": 5,
   "metadata": {},
   "outputs": [
    {
     "name": "stdout",
     "output_type": "stream",
     "text": [
      "Badge(id=2, name='Test Course 1 Nice Beard Badge', description='Nice beard', timecreated=1654272678, timemodified=1654272756, usercreated=2, usermodified=2, issuername='Evoke STAGING', issuerurl='https://staging.evokenet.org/moodle/', issuercontact='', expiredate=None, expireperiod=None, type=2, courseid=2, message='<p>You have been awarded the badge \"%badgename%\"!</p>\\n<p>More information about this badge can be found on the %badgelink% badge information page.</p>\\n<p>You can manage and download the badge from your <a href=\"https://staging.evokenet.org/moodle/badges/mybadges.php\">Manage badges</a> page.</p>', messagesubject='Congratulations! You just earned a badge!', attachment=1, notification=0, nextcron=None, status=3, issuedid=2, uniquehash='bfe5f6042733aa7a5ee017974a8db8ac5487a986', dateissued=1654272756, dateexpire=None, visible=1, email='msoledade@quanti.ca', version='', language='en', imageauthorname='', imageauthoremail='', imageauthorurl='', imagecaption='', badgeurl='https://staging.evokenet.org/moodle/webservice/pluginfile.php/20/badges/badgeimage/2/f3', endorsement=None, alignment=[], relatedbadges=[])\n"
     ]
    }
   ],
   "source": [
    "\n",
    "# all information for the first badge returned\n",
    "\n",
    "first_badge = badges[0]\n",
    "\n",
    "print(first_badge)"
   ]
  },
  {
   "cell_type": "code",
   "execution_count": null,
   "metadata": {},
   "outputs": [],
   "source": []
  },
  {
   "cell_type": "markdown",
   "metadata": {},
   "source": [
    "##### Second example from documentation:"
   ]
  }
 ],
 "metadata": {
  "kernelspec": {
   "display_name": "Python 3.8.13 ('EVOKE_python3.8')",
   "language": "python",
   "name": "python3"
  },
  "language_info": {
   "codemirror_mode": {
    "name": "ipython",
    "version": 3
   },
   "file_extension": ".py",
   "mimetype": "text/x-python",
   "name": "python",
   "nbconvert_exporter": "python",
   "pygments_lexer": "ipython3",
   "version": "3.8.13"
  },
  "orig_nbformat": 4,
  "vscode": {
   "interpreter": {
    "hash": "63ffc27a2ad1869176bb6c2189175de9d943769a192701e90de5b87d83241fed"
   }
  }
 },
 "nbformat": 4,
 "nbformat_minor": 2
}
